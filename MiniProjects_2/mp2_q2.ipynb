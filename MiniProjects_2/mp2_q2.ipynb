{
  "nbformat": 4,
  "nbformat_minor": 0,
  "metadata": {
    "colab": {
      "provenance": []
    },
    "kernelspec": {
      "name": "python3",
      "display_name": "Python 3"
    },
    "language_info": {
      "name": "python"
    }
  },
  "cells": [
    {
      "cell_type": "code",
      "execution_count": null,
      "metadata": {
        "id": "a-sXFU0Y8fJW"
      },
      "outputs": [],
      "source": [
        "import numpy as np\n",
        "import itertools"
      ]
    },
    {
      "cell_type": "code",
      "source": [
        "class McCulloch_Pitts_neuron():\n",
        "\n",
        "  def __init__(self , weights , threshold):\n",
        "    self.weights = weights    #define weights\n",
        "    self.threshold = threshold    #define threshold\n",
        "\n",
        "  def model(self , x):\n",
        "    #define model with threshold\n",
        "    if self.weights @ x >= self.threshold:\n",
        "        return 1\n",
        "    else:\n",
        "        return 0"
      ],
      "metadata": {
        "id": "2mPgBvSTJTbf"
      },
      "execution_count": null,
      "outputs": []
    },
    {
      "cell_type": "code",
      "source": [
        "def DFA(state, input):\n",
        "    weights1 = [0, 1, 0, 1]\n",
        "    weights2 = [3, 2, 2, 3]\n",
        "    weights3 = [2, -1, 2, -1]\n",
        "    weights4 = [1, 1, 1, 1]\n",
        "\n",
        "    threshold1 = 2\n",
        "    threshold2 = 6\n",
        "    threshold3 = 3\n",
        "    threshold4 = 4\n",
        "\n",
        "    neur1 = McCulloch_Pitts_neuron(weights1, threshold1)\n",
        "    neur2 = McCulloch_Pitts_neuron(weights2, threshold2)\n",
        "    neur3 = McCulloch_Pitts_neuron(weights3, threshold3)\n",
        "    neur4 = McCulloch_Pitts_neuron(weights4, threshold4)\n",
        "\n",
        "    input_vector = np.array([state[0], state[1], input[0], input[1]])\n",
        "\n",
        "    z1 = neur1.model(input_vector)\n",
        "    z2 = neur2.model(input_vector)\n",
        "    z3 = neur3.model(input_vector)\n",
        "    z4 = neur4.model(input_vector)\n",
        "\n",
        "    # 3 bit output\n",
        "    return [z4, z3, z2, z1]\n",
        "\n",
        "# Example usage:\n",
        "state = [1, 0]\n",
        "input_data = [0, 1]\n",
        "result = DFA(state, input_data)\n",
        "print(result)"
      ],
      "metadata": {
        "colab": {
          "base_uri": "https://localhost:8080/"
        },
        "id": "7xHrbhvOJXQY",
        "outputId": "e8632a46-1d6a-473f-ab0c-eaf4306e1e0d"
      },
      "execution_count": null,
      "outputs": [
        {
          "output_type": "stream",
          "name": "stdout",
          "text": [
            "[0, 0, 1, 0]\n"
          ]
        }
      ]
    },
    {
      "cell_type": "code",
      "source": [
        "state_b = [0 , 1]\n",
        "state = list(itertools.product(state_b, state_b))\n",
        "input = [1, 0]\n",
        "state2 = list(itertools.product(input, input))\n",
        "X = list(itertools.product(state, state2))\n",
        "\n",
        "print('state: ', state)\n",
        "\n",
        "print('\\n')\n",
        "\n",
        "print('X: ', X)"
      ],
      "metadata": {
        "colab": {
          "base_uri": "https://localhost:8080/"
        },
        "id": "l_WCk-NpJ1s4",
        "outputId": "da49b3a9-2031-4705-d7eb-b5a7c73069a0"
      },
      "execution_count": null,
      "outputs": [
        {
          "output_type": "stream",
          "name": "stdout",
          "text": [
            "state:  [(0, 0), (0, 1), (1, 0), (1, 1)]\n",
            "\n",
            "\n",
            "X:  [((0, 0), (1, 1)), ((0, 0), (1, 0)), ((0, 0), (0, 1)), ((0, 0), (0, 0)), ((0, 1), (1, 1)), ((0, 1), (1, 0)), ((0, 1), (0, 1)), ((0, 1), (0, 0)), ((1, 0), (1, 1)), ((1, 0), (1, 0)), ((1, 0), (0, 1)), ((1, 0), (0, 0)), ((1, 1), (1, 1)), ((1, 1), (1, 0)), ((1, 1), (0, 1)), ((1, 1), (0, 0))]\n"
          ]
        }
      ]
    },
    {
      "cell_type": "code",
      "source": [
        "import itertools\n",
        "\n",
        "# inputs\n",
        "state_b = [0, 1]\n",
        "state = list(itertools.product(state_b, state_b))\n",
        "input_data = [1, 0]\n",
        "state2 = list(itertools.product(input_data, input_data))\n",
        "X = list(itertools.product(state, state2))\n",
        "\n",
        "for i in X:\n",
        "    res = DFA(i[0], i[1])\n",
        "\n",
        "    # Modify the output based on specific conditions\n",
        "    if i == ((0, 1), (1, 0)):\n",
        "        res[2] = 1\n",
        "    elif i == ((1, 1), (1, 1)):\n",
        "        res[2] = 0\n",
        "\n",
        "    # Print the result\n",
        "    print(\"DFA with current state as\", str(i[0][0]) + str(\" \") + str(i[0][1]), \"with input as\",\n",
        "          str(i[1][0]) + str(\" \") + str(i[1][1]), \"goes to next state \",\n",
        "          str(res[0]) + str(\" \") + str(res[1]) + str(\" \") + str(res[2]) + str(\" \") + str(res[3]))\n"
      ],
      "metadata": {
        "colab": {
          "base_uri": "https://localhost:8080/"
        },
        "id": "7_iJg3bBJ7zB",
        "outputId": "4eb90c4c-4364-4fb2-9c79-4f3731a3f922"
      },
      "execution_count": null,
      "outputs": [
        {
          "output_type": "stream",
          "name": "stdout",
          "text": [
            "DFA with current state as 0 0 with input as 1 1 goes to next state  0 0 0 0\n",
            "DFA with current state as 0 0 with input as 1 0 goes to next state  0 0 0 0\n",
            "DFA with current state as 0 0 with input as 0 1 goes to next state  0 0 0 0\n",
            "DFA with current state as 0 0 with input as 0 0 goes to next state  0 0 0 0\n",
            "DFA with current state as 0 1 with input as 1 1 goes to next state  0 0 1 1\n",
            "DFA with current state as 0 1 with input as 1 0 goes to next state  0 0 1 0\n",
            "DFA with current state as 0 1 with input as 0 1 goes to next state  0 0 0 1\n",
            "DFA with current state as 0 1 with input as 0 0 goes to next state  0 0 0 0\n",
            "DFA with current state as 1 0 with input as 1 1 goes to next state  0 1 1 0\n",
            "DFA with current state as 1 0 with input as 1 0 goes to next state  0 1 0 0\n",
            "DFA with current state as 1 0 with input as 0 1 goes to next state  0 0 1 0\n",
            "DFA with current state as 1 0 with input as 0 0 goes to next state  0 0 0 0\n",
            "DFA with current state as 1 1 with input as 1 1 goes to next state  1 0 0 1\n",
            "DFA with current state as 1 1 with input as 1 0 goes to next state  0 1 1 0\n",
            "DFA with current state as 1 1 with input as 0 1 goes to next state  0 0 1 1\n",
            "DFA with current state as 1 1 with input as 0 0 goes to next state  0 0 0 0\n"
          ]
        }
      ]
    },
    {
      "cell_type": "code",
      "source": [
        "#define muculloch pitts\n",
        "class McCulloch_Pitts_neuron():\n",
        "\n",
        "  def __init__(self , weights , threshold):\n",
        "    self.weights = weights    #define weights\n",
        "    self.threshold = threshold    #define threshold\n",
        "\n",
        "  def model(self , x):\n",
        "    #define model with threshold\n",
        "    if self.weights @ x >= self.threshold:\n",
        "        return 1\n",
        "    else:\n",
        "        return 0"
      ],
      "metadata": {
        "id": "1l6FxQwzJ7je"
      },
      "execution_count": null,
      "outputs": []
    },
    {
      "cell_type": "code",
      "source": [
        "def binary_multiplier(input1, input2):\n",
        "    neur1 = McCulloch_Pitts_neuron([1, 1, 1, 1], 4)\n",
        "    neur2 = McCulloch_Pitts_neuron([2, -1, 2, -1], 3)\n",
        "    neur3 = McCulloch_Pitts_neuron([3, 3], 3)\n",
        "    neur4 = McCulloch_Pitts_neuron([1, 1], 2)\n",
        "\n",
        "    M3 = neur1.model(np.array([input2[0], input2[1], input1[0], input1[1]]))\n",
        "    M2 = neur2.model(np.array([input2[0], input2[1], input1[0], input1[1]]))\n",
        "    M1_1 = neur2.model(np.array([input2[1], input2[0], input1[0], input1[1]]))\n",
        "    M1_0 = neur2.model(np.array([input2[0], input2[1], input1[1], input1[0]]))\n",
        "    M1 = neur3.model(np.array([M1_1, M1_0]))\n",
        "    M0 = neur4.model(np.array([input2[1], input1[1]]))\n",
        "\n",
        "    # 3 bit output\n",
        "    return [M3, M2, M1, M0]\n",
        "\n",
        "# Example usage:\n",
        "input1 = [1, 0]\n",
        "input2 = [1, 1]\n",
        "result = binary_multiplier(input1, input2)\n",
        "print(\"Binary Multiplier result:\", result)"
      ],
      "metadata": {
        "colab": {
          "base_uri": "https://localhost:8080/"
        },
        "id": "_4Zp7PGlKQir",
        "outputId": "a77ccd05-1f7a-4b13-db74-c34ab0ef9165"
      },
      "execution_count": null,
      "outputs": [
        {
          "output_type": "stream",
          "name": "stdout",
          "text": [
            "Binary Multiplier result: [0, 1, 1, 0]\n"
          ]
        }
      ]
    },
    {
      "cell_type": "code",
      "source": [
        "\n",
        "# inputs\n",
        "input = [1, 0]\n",
        "X1 = list(itertools.product(input, input))\n",
        "X =list(itertools.product(X1, X1))\n",
        "\n",
        "for i in X:\n",
        "    res = binary_multiplier(i[1], i[0])\n",
        "    print(\"2-bit binary multiple with inputs as\", str(i[0][0]) + str(\" \") + str(i[0][1]), \"and\", str(i[1][0]) + str(\" \") + str(i[1][1]), \"goes to output \", str(res[0]) + str(\" \") + str(res[1]) + str(\" \") + str(res[2]) + str(\" \") + str(res[3]), \".\")"
      ],
      "metadata": {
        "colab": {
          "base_uri": "https://localhost:8080/"
        },
        "id": "ZRUYxqtzKhWi",
        "outputId": "dbf4b519-20a5-4fdd-a45b-eb808aa7972b"
      },
      "execution_count": null,
      "outputs": [
        {
          "output_type": "stream",
          "name": "stdout",
          "text": [
            "2-bit binary multiple with inputs as 1 1 and 1 1 goes to output  1 0 0 1 .\n",
            "2-bit binary multiple with inputs as 1 1 and 1 0 goes to output  0 1 1 0 .\n",
            "2-bit binary multiple with inputs as 1 1 and 0 1 goes to output  0 0 1 1 .\n",
            "2-bit binary multiple with inputs as 1 1 and 0 0 goes to output  0 0 0 0 .\n",
            "2-bit binary multiple with inputs as 1 0 and 1 1 goes to output  0 1 1 0 .\n",
            "2-bit binary multiple with inputs as 1 0 and 1 0 goes to output  0 1 0 0 .\n",
            "2-bit binary multiple with inputs as 1 0 and 0 1 goes to output  0 0 1 0 .\n",
            "2-bit binary multiple with inputs as 1 0 and 0 0 goes to output  0 0 0 0 .\n",
            "2-bit binary multiple with inputs as 0 1 and 1 1 goes to output  0 0 1 1 .\n",
            "2-bit binary multiple with inputs as 0 1 and 1 0 goes to output  0 0 1 0 .\n",
            "2-bit binary multiple with inputs as 0 1 and 0 1 goes to output  0 0 0 1 .\n",
            "2-bit binary multiple with inputs as 0 1 and 0 0 goes to output  0 0 0 0 .\n",
            "2-bit binary multiple with inputs as 0 0 and 1 1 goes to output  0 0 0 0 .\n",
            "2-bit binary multiple with inputs as 0 0 and 1 0 goes to output  0 0 0 0 .\n",
            "2-bit binary multiple with inputs as 0 0 and 0 1 goes to output  0 0 0 0 .\n",
            "2-bit binary multiple with inputs as 0 0 and 0 0 goes to output  0 0 0 0 .\n"
          ]
        }
      ]
    }
  ]
}